{
 "cells": [
  {
   "cell_type": "code",
   "execution_count": 1,
   "metadata": {},
   "outputs": [
    {
     "name": "stderr",
     "output_type": "stream",
     "text": [
      "Loading required package: BiocGenerics\n",
      "Loading required package: parallel\n",
      "\n",
      "Attaching package: ‘BiocGenerics’\n",
      "\n",
      "The following objects are masked from ‘package:parallel’:\n",
      "\n",
      "    clusterApply, clusterApplyLB, clusterCall, clusterEvalQ,\n",
      "    clusterExport, clusterMap, parApply, parCapply, parLapply,\n",
      "    parLapplyLB, parRapply, parSapply, parSapplyLB\n",
      "\n",
      "The following objects are masked from ‘package:stats’:\n",
      "\n",
      "    IQR, mad, sd, var, xtabs\n",
      "\n",
      "The following objects are masked from ‘package:base’:\n",
      "\n",
      "    anyDuplicated, append, as.data.frame, basename, cbind, colnames,\n",
      "    dirname, do.call, duplicated, eval, evalq, Filter, Find, get, grep,\n",
      "    grepl, intersect, is.unsorted, lapply, Map, mapply, match, mget,\n",
      "    order, paste, pmax, pmax.int, pmin, pmin.int, Position, rank,\n",
      "    rbind, Reduce, rownames, sapply, setdiff, sort, table, tapply,\n",
      "    union, unique, unsplit, which, which.max, which.min\n",
      "\n",
      "Loading required package: S4Vectors\n",
      "Loading required package: stats4\n",
      "\n",
      "Attaching package: ‘S4Vectors’\n",
      "\n",
      "The following object is masked from ‘package:base’:\n",
      "\n",
      "    expand.grid\n",
      "\n",
      "Loading required package: IRanges\n",
      "Loading required package: XVector\n",
      "\n",
      "Attaching package: ‘Biostrings’\n",
      "\n",
      "The following object is masked from ‘package:base’:\n",
      "\n",
      "    strsplit\n",
      "\n",
      "Loading required package: GenomicRanges\n",
      "Loading required package: GenomeInfoDb\n"
     ]
    }
   ],
   "source": [
    "library(polyester)\n",
    "library(Biostrings)\n",
    "library(rtracklayer)\n",
    "library(BSgenome)"
   ]
  },
  {
   "cell_type": "code",
   "execution_count": 2,
   "metadata": {},
   "outputs": [],
   "source": [
    "setwd(\"/Users/tessa/dib-lab/kmerslay-analysis/simulate_reads\")"
   ]
  },
  {
   "cell_type": "code",
   "execution_count": 3,
   "metadata": {},
   "outputs": [],
   "source": [
    "# Start with Quest for Orthologs data\n",
    "data_dir=\"/Users/tessa/dib-lab/kmerslay-analysis/QfO_release_2019_04/Eukaryota\"\n",
    "genome_fasta=file.path(data_dir, \"UP000005640_9606_DNA.fasta\")\n",
    "addl_fasta=file.path(data_dir, \"UP000005640_9606_additional.fasta\")\n",
    "gene_fasta=file.path(data_dir, \"UP000005640_9606.fasta\")"
   ]
  },
  {
   "cell_type": "code",
   "execution_count": 6,
   "metadata": {},
   "outputs": [],
   "source": [
    "fasta = readDNAStringSet(genome_fasta)"
   ]
  },
  {
   "cell_type": "code",
   "execution_count": 5,
   "metadata": {},
   "outputs": [],
   "source": [
    "# test small subset\n",
    "small_fasta = fasta[1:20]\n",
    "writeXStringSet(small_fasta, 'test_small.fa')"
   ]
  },
  {
   "cell_type": "code",
   "execution_count": 7,
   "metadata": {},
   "outputs": [],
   "source": [
    "# let's sim at 20x coverage, uniform:\n",
    "# ~20x coverage ----> reads per transcript = transcriptlength/readlength * 20\n",
    "readspertx = round(20 * width(small_fasta) / 100)"
   ]
  },
  {
   "cell_type": "code",
   "execution_count": 8,
   "metadata": {},
   "outputs": [
    {
     "data": {
      "text/html": [
       "<table>\n",
       "<tbody>\n",
       "\t<tr><td>4</td><td>1</td></tr>\n",
       "\t<tr><td>4</td><td>1</td></tr>\n",
       "\t<tr><td>1</td><td>4</td></tr>\n",
       "\t<tr><td>1</td><td>4</td></tr>\n",
       "\t<tr><td>1</td><td>1</td></tr>\n",
       "\t<tr><td>1</td><td>1</td></tr>\n",
       "</tbody>\n",
       "</table>\n"
      ],
      "text/latex": [
       "\\begin{tabular}{ll}\n",
       "\t 4 & 1\\\\\n",
       "\t 4 & 1\\\\\n",
       "\t 1 & 4\\\\\n",
       "\t 1 & 4\\\\\n",
       "\t 1 & 1\\\\\n",
       "\t 1 & 1\\\\\n",
       "\\end{tabular}\n"
      ],
      "text/markdown": [
       "\n",
       "| 4 | 1 |\n",
       "| 4 | 1 |\n",
       "| 1 | 4 |\n",
       "| 1 | 4 |\n",
       "| 1 | 1 |\n",
       "| 1 | 1 |\n",
       "\n"
      ],
      "text/plain": [
       "     [,1] [,2]\n",
       "[1,] 4    1   \n",
       "[2,] 4    1   \n",
       "[3,] 1    4   \n",
       "[4,] 1    4   \n",
       "[5,] 1    1   \n",
       "[6,] 1    1   "
      ]
     },
     "metadata": {},
     "output_type": "display_data"
    }
   ],
   "source": [
    "# build some fold changes\n",
    "fold_changes = matrix(c(4,4,rep(1,18),1,1,4,4,rep(1,16)), nrow=20)\n",
    "head(fold_changes)"
   ]
  },
  {
   "cell_type": "code",
   "execution_count": 8,
   "metadata": {},
   "outputs": [],
   "source": [
    "# test 20 transcripts\n",
    "simulate_experiment('test_small.fa', \n",
    "                    reads_per_transcript=readspertx,\n",
    "                    num_reps=c(10,10), \n",
    "                    fold_changes=fold_changes, \n",
    "                    outdir='timecourse_reads')"
   ]
  },
  {
   "cell_type": "markdown",
   "metadata": {},
   "source": [
    "### Sim with full QfO dataset"
   ]
  },
  {
   "cell_type": "code",
   "execution_count": 9,
   "metadata": {},
   "outputs": [],
   "source": [
    "# lets sim using the full dataset, still 20x uniform coverage\n",
    "# ~20x coverage ----> reads per transcript = transcriptlength/readlength * 20\n",
    "reads_per_tx_QfO = round(20 * width(fasta) / 100)"
   ]
  },
  {
   "cell_type": "code",
   "execution_count": 10,
   "metadata": {},
   "outputs": [
    {
     "data": {
      "text/plain": [
       "  A DNAStringSet instance of length 20917\n",
       "         width seq                                          names               \n",
       "    [1]    462 ATGGGGGCGCCGCTGCTCTCT...GATCCTGTGCTTTACTCTGA tr|A0A024R161|ENS...\n",
       "    [2]    195 ATGTCCAGCCACGAAGGTGGC...AGAAATCTGGCAAAAAATAA tr|A0A024R1R8|ENS...\n",
       "    [3]    546 ATGATGAAGTTCAAGCCCAAC...TGCCATCTAGTGTAAGATAG sp|A0A024RBG1|ENS...\n",
       "    [4]    390 ATGGAGACAGTGGTCACAACT...TCTACATCTGCAGTGCTAGA tr|A0A075B6H5|ENS...\n",
       "    [5]    348 ATGGAAGCCCCAGCTCAGCTT...AGCAGGATTATAACTTACCT tr|A0A075B6H7|ENS...\n",
       "    ...    ... ...\n",
       "[20913]    291 ATGCAGGGGCAAAAGGTGCTC...GCTCCAGAGAGTGTGAATGA tr|V9GZ69|ENSP000...\n",
       "[20914]    975 ATGGCCCTGCTGGCTCTGGCC...GGTACTGCAGTGGCAACTAA sp|W5XKT8|ENSP000...\n",
       "[20915]    342 ATGGAGAGTAAATATAAGGAG...TTTCTGGGAATGCATGTTGA sp|W6CW81|AHI87498\n",
       "[20916]    801 ATGGTGTGTCTGAAGCTCCCT...CAACAGGACTCTTGAGCTGA tr|X5D2U9|ENSP000...\n",
       "[20917]    384 ATGGGCAGGAAAGAGCATGAA...TGGTCTTGTGGCGCTCCTAG tr|X6R8D5|ENSP000..."
      ]
     },
     "metadata": {},
     "output_type": "display_data"
    }
   ],
   "source": [
    "fasta"
   ]
  },
  {
   "cell_type": "code",
   "execution_count": 11,
   "metadata": {},
   "outputs": [],
   "source": [
    "#count matrix seems easier than fold changes for this.\n",
    "\n",
    "# full QfO count matrix\n",
    "num_timepoints = 2\n",
    "reads_per_tx_QfO = round(20 * width(fasta) / 100)\n",
    "countmat = matrix(reads_per_tx_QfO, nrow=length(fasta), ncol=num_timepoints)\n",
    "                  \n",
    "# right now, simulated samples (01 and 02) will have identical transcript counts.\n",
    "# since simulation is random, should be slightly different btwn the samples"
   ]
  },
  {
   "cell_type": "code",
   "execution_count": 12,
   "metadata": {},
   "outputs": [
    {
     "data": {
      "text/html": [
       "<table>\n",
       "<tbody>\n",
       "\t<tr><td> 92</td><td> 92</td></tr>\n",
       "\t<tr><td> 39</td><td> 39</td></tr>\n",
       "\t<tr><td>109</td><td>109</td></tr>\n",
       "\t<tr><td> 78</td><td> 78</td></tr>\n",
       "\t<tr><td> 70</td><td> 70</td></tr>\n",
       "\t<tr><td> 71</td><td> 71</td></tr>\n",
       "</tbody>\n",
       "</table>\n"
      ],
      "text/latex": [
       "\\begin{tabular}{ll}\n",
       "\t  92 &  92\\\\\n",
       "\t  39 &  39\\\\\n",
       "\t 109 & 109\\\\\n",
       "\t  78 &  78\\\\\n",
       "\t  70 &  70\\\\\n",
       "\t  71 &  71\\\\\n",
       "\\end{tabular}\n"
      ],
      "text/markdown": [
       "\n",
       "|  92 |  92 |\n",
       "|  39 |  39 |\n",
       "| 109 | 109 |\n",
       "|  78 |  78 |\n",
       "|  70 |  70 |\n",
       "|  71 |  71 |\n",
       "\n"
      ],
      "text/plain": [
       "     [,1] [,2]\n",
       "[1,]  92   92 \n",
       "[2,]  39   39 \n",
       "[3,] 109  109 \n",
       "[4,]  78   78 \n",
       "[5,]  70   70 \n",
       "[6,]  71   71 "
      ]
     },
     "metadata": {},
     "output_type": "display_data"
    }
   ],
   "source": [
    "head(countmat)"
   ]
  },
  {
   "cell_type": "code",
   "execution_count": null,
   "metadata": {},
   "outputs": [],
   "source": [
    "simulate_experiment_countmat(genome_fasta, readmat=countmat, outdir=\"QfO_full\")"
   ]
  },
  {
   "cell_type": "code",
   "execution_count": 13,
   "metadata": {},
   "outputs": [],
   "source": [
    "## To add variability, change this count matrix. For example,cbind 20x cov, 50x cov vectors\n",
    "# reads/tx\n",
    "reads_per_tx20_QfO = round(20 * width(fasta) / 100) # 20x coverage\n",
    "reads_per_tx50_QfO = round(50 * width(fasta) / 100) # 50x coverage\n",
    "counts20_50 <- cbind(reads_per_tx20_QfO, reads_per_tx50_QfO)    "
   ]
  },
  {
   "cell_type": "code",
   "execution_count": 14,
   "metadata": {},
   "outputs": [
    {
     "data": {
      "text/html": [
       "<table>\n",
       "<thead><tr><th scope=col>reads_per_tx20_QfO</th><th scope=col>reads_per_tx50_QfO</th></tr></thead>\n",
       "<tbody>\n",
       "\t<tr><td> 92</td><td>231</td></tr>\n",
       "\t<tr><td> 39</td><td> 98</td></tr>\n",
       "\t<tr><td>109</td><td>273</td></tr>\n",
       "\t<tr><td> 78</td><td>195</td></tr>\n",
       "\t<tr><td> 70</td><td>174</td></tr>\n",
       "\t<tr><td> 71</td><td>176</td></tr>\n",
       "</tbody>\n",
       "</table>\n"
      ],
      "text/latex": [
       "\\begin{tabular}{ll}\n",
       " reads\\_per\\_tx20\\_QfO & reads\\_per\\_tx50\\_QfO\\\\\n",
       "\\hline\n",
       "\t  92 & 231\\\\\n",
       "\t  39 &  98\\\\\n",
       "\t 109 & 273\\\\\n",
       "\t  78 & 195\\\\\n",
       "\t  70 & 174\\\\\n",
       "\t  71 & 176\\\\\n",
       "\\end{tabular}\n"
      ],
      "text/markdown": [
       "\n",
       "| reads_per_tx20_QfO | reads_per_tx50_QfO |\n",
       "|---|---|\n",
       "|  92 | 231 |\n",
       "|  39 |  98 |\n",
       "| 109 | 273 |\n",
       "|  78 | 195 |\n",
       "|  70 | 174 |\n",
       "|  71 | 176 |\n",
       "\n"
      ],
      "text/plain": [
       "     reads_per_tx20_QfO reads_per_tx50_QfO\n",
       "[1,]  92                231               \n",
       "[2,]  39                 98               \n",
       "[3,] 109                273               \n",
       "[4,]  78                195               \n",
       "[5,]  70                174               \n",
       "[6,]  71                176               "
      ]
     },
     "metadata": {},
     "output_type": "display_data"
    }
   ],
   "source": [
    "head(counts20_50)"
   ]
  },
  {
   "cell_type": "code",
   "execution_count": null,
   "metadata": {},
   "outputs": [],
   "source": [
    "# OR, we can add random (or deterministic) variability\n",
    "# by scaling countmat by a vector of random (or set) values\n",
    "\n",
    "## example from tutorial:\n",
    "\n",
    "#Y = scale(r, X)\n",
    "\n",
    "# add spikes in expression at certain timepoints to certain transcripts:\n",
    "#up_early = c(1,2) # transcripts #1 and #2\n",
    "#up_late = c(3,4) # transcripts # 3 and #4\n",
    "#countmat[up_early, 1] = 3*countmat[up_early, 1]\n",
    "#countmat[up_early, 2] = round(1.5*countmat[up_early, 2])\n",
    "#countmat[up_late, 4] = 6*countmat[up_late, 4]\n",
    "#countmat[up_late, 5] = round(1.2*countmat[up_late, 5])"
   ]
  },
  {
   "cell_type": "code",
   "execution_count": 51,
   "metadata": {},
   "outputs": [],
   "source": [
    "simulate_experiment_countmat(genome_fasta, readmat=countmat, outdir=\"QfO_full\") "
   ]
  },
  {
   "cell_type": "code",
   "execution_count": null,
   "metadata": {},
   "outputs": [],
   "source": [
    "# let's do some full human genome data"
   ]
  },
  {
   "cell_type": "code",
   "execution_count": 8,
   "metadata": {},
   "outputs": [],
   "source": [
    "hsapiens_fasta=\"/Users/tessa/dib-lab/kmerslay-analysis/Homo_sapiens/Ensembl/GRCh37/Sequence/WholeGenomeFasta/genome.fa\"\n",
    "hsapiens_gtf=\"/Users/tessa/dib-lab/kmerslay-analysis/Homo_sapiens/Ensembl/GRCh37/Annotation/Genes/genes.gtf\""
   ]
  },
  {
   "cell_type": "markdown",
   "metadata": {},
   "source": [
    "## Need to filter the gtf"
   ]
  },
  {
   "cell_type": "code",
   "execution_count": 10,
   "metadata": {},
   "outputs": [],
   "source": [
    "# import is from rtracklayer\n",
    "h_gtf <- import(hsapiens_gtf)"
   ]
  },
  {
   "cell_type": "code",
   "execution_count": 11,
   "metadata": {},
   "outputs": [
    {
     "data": {
      "text/plain": [
       "GRanges object with 2764635 ranges and 18 metadata columns:\n",
       "            seqnames            ranges strand |\n",
       "               <Rle>         <IRanges>  <Rle> |\n",
       "        [1]        1       11869-12227      + |\n",
       "        [2]        1       11869-14409      + |\n",
       "        [3]        1       11872-12227      + |\n",
       "        [4]        1       11872-14412      + |\n",
       "        [5]        1       11874-12227      + |\n",
       "        ...      ...               ...    ... .\n",
       "  [2764631]        Y 28776794-28776896      - |\n",
       "  [2764632]        Y 28779492-28779578      - |\n",
       "  [2764633]        Y 28780670-28780799      - |\n",
       "  [2764634]        Y 59001391-59001635      + |\n",
       "  [2764635]        Y 59001391-59001635      + |\n",
       "                                        source       type     score     phase\n",
       "                                      <factor>   <factor> <numeric> <integer>\n",
       "        [1]               processed_transcript       exon      <NA>      <NA>\n",
       "        [2]               processed_transcript transcript      <NA>      <NA>\n",
       "        [3] transcribed_unprocessed_pseudogene       exon      <NA>      <NA>\n",
       "        [4] transcribed_unprocessed_pseudogene transcript      <NA>      <NA>\n",
       "        [5] transcribed_unprocessed_pseudogene       exon      <NA>      <NA>\n",
       "        ...                                ...        ...       ...       ...\n",
       "  [2764631]             unprocessed_pseudogene       exon      <NA>      <NA>\n",
       "  [2764632]             unprocessed_pseudogene       exon      <NA>      <NA>\n",
       "  [2764633]             unprocessed_pseudogene       exon      <NA>      <NA>\n",
       "  [2764634]               processed_pseudogene       exon      <NA>      <NA>\n",
       "  [2764635]               processed_pseudogene transcript      <NA>      <NA>\n",
       "                    exon_id exon_number gene_biotype         gene_id\n",
       "                <character> <character>  <character>     <character>\n",
       "        [1] ENSE00002234944           1   pseudogene ENSG00000223972\n",
       "        [2]            <NA>        <NA>   pseudogene ENSG00000223972\n",
       "        [3] ENSE00002234632           1   pseudogene ENSG00000223972\n",
       "        [4]            <NA>        <NA>   pseudogene ENSG00000223972\n",
       "        [5] ENSE00002269724           1   pseudogene ENSG00000223972\n",
       "        ...             ...         ...          ...             ...\n",
       "  [2764631] ENSE00001681574           3   pseudogene ENSG00000237917\n",
       "  [2764632] ENSE00001638296           2   pseudogene ENSG00000237917\n",
       "  [2764633] ENSE00001797328           1   pseudogene ENSG00000237917\n",
       "  [2764634] ENSE00001794473           1   pseudogene ENSG00000235857\n",
       "  [2764635]            <NA>        <NA>   pseudogene ENSG00000235857\n",
       "              gene_name    gene_source   transcript_id transcript_name\n",
       "            <character>    <character>     <character>     <character>\n",
       "        [1]     DDX11L1 ensembl_havana ENST00000456328     DDX11L1-002\n",
       "        [2]     DDX11L1 ensembl_havana ENST00000456328     DDX11L1-002\n",
       "        [3]     DDX11L1 ensembl_havana ENST00000515242     DDX11L1-201\n",
       "        [4]     DDX11L1 ensembl_havana ENST00000515242     DDX11L1-201\n",
       "        [5]     DDX11L1 ensembl_havana ENST00000518655     DDX11L1-202\n",
       "        ...         ...            ...             ...             ...\n",
       "  [2764631]     PARP4P1         havana ENST00000435945     PARP4P1-001\n",
       "  [2764632]     PARP4P1         havana ENST00000435945     PARP4P1-001\n",
       "  [2764633]     PARP4P1         havana ENST00000435945     PARP4P1-001\n",
       "  [2764634]     CTBP2P1         havana ENST00000431853     CTBP2P1-001\n",
       "  [2764635]     CTBP2P1         havana ENST00000431853     CTBP2P1-001\n",
       "            transcript_source      tss_id     ccds_id        p_id  protein_id\n",
       "                  <character> <character> <character> <character> <character>\n",
       "        [1]            havana    TSS15133        <NA>        <NA>        <NA>\n",
       "        [2]            havana    TSS15133        <NA>        <NA>        <NA>\n",
       "        [3]           ensembl   TSS178604        <NA>        <NA>        <NA>\n",
       "        [4]           ensembl   TSS178604        <NA>        <NA>        <NA>\n",
       "        [5]           ensembl   TSS192941        <NA>        <NA>        <NA>\n",
       "        ...               ...         ...         ...         ...         ...\n",
       "  [2764631]            havana    TSS91331        <NA>        <NA>        <NA>\n",
       "  [2764632]            havana    TSS91331        <NA>        <NA>        <NA>\n",
       "  [2764633]            havana    TSS91331        <NA>        <NA>        <NA>\n",
       "  [2764634]            havana   TSS100478        <NA>        <NA>        <NA>\n",
       "  [2764635]            havana   TSS100478        <NA>        <NA>        <NA>\n",
       "                    tag\n",
       "            <character>\n",
       "        [1]        <NA>\n",
       "        [2]        <NA>\n",
       "        [3]        <NA>\n",
       "        [4]        <NA>\n",
       "        [5]        <NA>\n",
       "        ...         ...\n",
       "  [2764631]        <NA>\n",
       "  [2764632]        <NA>\n",
       "  [2764633]        <NA>\n",
       "  [2764634]        <NA>\n",
       "  [2764635]        <NA>\n",
       "  -------\n",
       "  seqinfo: 265 sequences from an unspecified genome; no seqlengths"
      ]
     },
     "metadata": {},
     "output_type": "display_data"
    }
   ],
   "source": [
    "h_gtf"
   ]
  },
  {
   "cell_type": "code",
   "execution_count": 12,
   "metadata": {},
   "outputs": [],
   "source": [
    "# first, we want to only keep chromosomes, so we can use the fasta files in the Chromosomes folder of the Ensembl download"
   ]
  },
  {
   "cell_type": "code",
   "execution_count": 13,
   "metadata": {},
   "outputs": [],
   "source": [
    "seqnames_to_keep = c(1:22, \"M\", \"X\", \"Y\")"
   ]
  },
  {
   "cell_type": "code",
   "execution_count": null,
   "metadata": {},
   "outputs": [],
   "source": []
  },
  {
   "cell_type": "code",
   "execution_count": null,
   "metadata": {},
   "outputs": [],
   "source": []
  },
  {
   "cell_type": "code",
   "execution_count": 14,
   "metadata": {},
   "outputs": [],
   "source": [
    "#haveNotes <- !is.na(drop(test$Note))\n",
    "#gene <- drop(gr$Parent)[haveNotes]\n",
    "filtered <- subset(h_gtf, seqnames  %in% seqnames_to_keep)\n",
    "export(filtered, \"chromosomes.gff3\")"
   ]
  },
  {
   "cell_type": "code",
   "execution_count": 15,
   "metadata": {},
   "outputs": [
    {
     "data": {
      "text/plain": [
       "GRanges object with 2529034 ranges and 18 metadata columns:\n",
       "            seqnames            ranges strand |\n",
       "               <Rle>         <IRanges>  <Rle> |\n",
       "        [1]        1       11869-12227      + |\n",
       "        [2]        1       11869-14409      + |\n",
       "        [3]        1       11872-12227      + |\n",
       "        [4]        1       11872-14412      + |\n",
       "        [5]        1       11874-12227      + |\n",
       "        ...      ...               ...    ... .\n",
       "  [2529030]        Y 28776794-28776896      - |\n",
       "  [2529031]        Y 28779492-28779578      - |\n",
       "  [2529032]        Y 28780670-28780799      - |\n",
       "  [2529033]        Y 59001391-59001635      + |\n",
       "  [2529034]        Y 59001391-59001635      + |\n",
       "                                        source       type     score     phase\n",
       "                                      <factor>   <factor> <numeric> <integer>\n",
       "        [1]               processed_transcript       exon      <NA>      <NA>\n",
       "        [2]               processed_transcript transcript      <NA>      <NA>\n",
       "        [3] transcribed_unprocessed_pseudogene       exon      <NA>      <NA>\n",
       "        [4] transcribed_unprocessed_pseudogene transcript      <NA>      <NA>\n",
       "        [5] transcribed_unprocessed_pseudogene       exon      <NA>      <NA>\n",
       "        ...                                ...        ...       ...       ...\n",
       "  [2529030]             unprocessed_pseudogene       exon      <NA>      <NA>\n",
       "  [2529031]             unprocessed_pseudogene       exon      <NA>      <NA>\n",
       "  [2529032]             unprocessed_pseudogene       exon      <NA>      <NA>\n",
       "  [2529033]               processed_pseudogene       exon      <NA>      <NA>\n",
       "  [2529034]               processed_pseudogene transcript      <NA>      <NA>\n",
       "                    exon_id exon_number gene_biotype         gene_id\n",
       "                <character> <character>  <character>     <character>\n",
       "        [1] ENSE00002234944           1   pseudogene ENSG00000223972\n",
       "        [2]            <NA>        <NA>   pseudogene ENSG00000223972\n",
       "        [3] ENSE00002234632           1   pseudogene ENSG00000223972\n",
       "        [4]            <NA>        <NA>   pseudogene ENSG00000223972\n",
       "        [5] ENSE00002269724           1   pseudogene ENSG00000223972\n",
       "        ...             ...         ...          ...             ...\n",
       "  [2529030] ENSE00001681574           3   pseudogene ENSG00000237917\n",
       "  [2529031] ENSE00001638296           2   pseudogene ENSG00000237917\n",
       "  [2529032] ENSE00001797328           1   pseudogene ENSG00000237917\n",
       "  [2529033] ENSE00001794473           1   pseudogene ENSG00000235857\n",
       "  [2529034]            <NA>        <NA>   pseudogene ENSG00000235857\n",
       "              gene_name    gene_source   transcript_id transcript_name\n",
       "            <character>    <character>     <character>     <character>\n",
       "        [1]     DDX11L1 ensembl_havana ENST00000456328     DDX11L1-002\n",
       "        [2]     DDX11L1 ensembl_havana ENST00000456328     DDX11L1-002\n",
       "        [3]     DDX11L1 ensembl_havana ENST00000515242     DDX11L1-201\n",
       "        [4]     DDX11L1 ensembl_havana ENST00000515242     DDX11L1-201\n",
       "        [5]     DDX11L1 ensembl_havana ENST00000518655     DDX11L1-202\n",
       "        ...         ...            ...             ...             ...\n",
       "  [2529030]     PARP4P1         havana ENST00000435945     PARP4P1-001\n",
       "  [2529031]     PARP4P1         havana ENST00000435945     PARP4P1-001\n",
       "  [2529032]     PARP4P1         havana ENST00000435945     PARP4P1-001\n",
       "  [2529033]     CTBP2P1         havana ENST00000431853     CTBP2P1-001\n",
       "  [2529034]     CTBP2P1         havana ENST00000431853     CTBP2P1-001\n",
       "            transcript_source      tss_id     ccds_id        p_id  protein_id\n",
       "                  <character> <character> <character> <character> <character>\n",
       "        [1]            havana    TSS15133        <NA>        <NA>        <NA>\n",
       "        [2]            havana    TSS15133        <NA>        <NA>        <NA>\n",
       "        [3]           ensembl   TSS178604        <NA>        <NA>        <NA>\n",
       "        [4]           ensembl   TSS178604        <NA>        <NA>        <NA>\n",
       "        [5]           ensembl   TSS192941        <NA>        <NA>        <NA>\n",
       "        ...               ...         ...         ...         ...         ...\n",
       "  [2529030]            havana    TSS91331        <NA>        <NA>        <NA>\n",
       "  [2529031]            havana    TSS91331        <NA>        <NA>        <NA>\n",
       "  [2529032]            havana    TSS91331        <NA>        <NA>        <NA>\n",
       "  [2529033]            havana   TSS100478        <NA>        <NA>        <NA>\n",
       "  [2529034]            havana   TSS100478        <NA>        <NA>        <NA>\n",
       "                    tag\n",
       "            <character>\n",
       "        [1]        <NA>\n",
       "        [2]        <NA>\n",
       "        [3]        <NA>\n",
       "        [4]        <NA>\n",
       "        [5]        <NA>\n",
       "        ...         ...\n",
       "  [2529030]        <NA>\n",
       "  [2529031]        <NA>\n",
       "  [2529032]        <NA>\n",
       "  [2529033]        <NA>\n",
       "  [2529034]        <NA>\n",
       "  -------\n",
       "  seqinfo: 265 sequences from an unspecified genome; no seqlengths"
      ]
     },
     "metadata": {},
     "output_type": "display_data"
    }
   ],
   "source": [
    "filtered"
   ]
  },
  {
   "cell_type": "code",
   "execution_count": 64,
   "metadata": {},
   "outputs": [
    {
     "data": {
      "text/html": [
       "<table>\n",
       "<thead><tr><th scope=col>seqnames</th><th scope=col>start</th><th scope=col>end</th><th scope=col>width</th><th scope=col>strand</th><th scope=col>source</th><th scope=col>type</th><th scope=col>score</th><th scope=col>phase</th><th scope=col>exon_id</th><th scope=col>...</th><th scope=col>gene_name</th><th scope=col>gene_source</th><th scope=col>transcript_id</th><th scope=col>transcript_name</th><th scope=col>transcript_source</th><th scope=col>tss_id</th><th scope=col>ccds_id</th><th scope=col>p_id</th><th scope=col>protein_id</th><th scope=col>tag</th></tr></thead>\n",
       "<tbody>\n",
       "\t<tr><td>1                                 </td><td>11869                             </td><td>12227                             </td><td> 359                              </td><td>+                                 </td><td>processed_transcript              </td><td>exon                              </td><td>NA                                </td><td>NA                                </td><td>ENSE00002234944                   </td><td>...                               </td><td>DDX11L1                           </td><td>ensembl_havana                    </td><td>ENST00000456328                   </td><td>DDX11L1-002                       </td><td>havana                            </td><td>TSS15133                          </td><td>NA                                </td><td>NA                                </td><td>NA                                </td><td>NA                                </td></tr>\n",
       "\t<tr><td>1                                 </td><td>11869                             </td><td>14409                             </td><td>2541                              </td><td>+                                 </td><td>processed_transcript              </td><td>transcript                        </td><td>NA                                </td><td>NA                                </td><td>NA                                </td><td>...                               </td><td>DDX11L1                           </td><td>ensembl_havana                    </td><td>ENST00000456328                   </td><td>DDX11L1-002                       </td><td>havana                            </td><td>TSS15133                          </td><td>NA                                </td><td>NA                                </td><td>NA                                </td><td>NA                                </td></tr>\n",
       "\t<tr><td>1                                 </td><td>11872                             </td><td>12227                             </td><td> 356                              </td><td>+                                 </td><td>transcribed_unprocessed_pseudogene</td><td>exon                              </td><td>NA                                </td><td>NA                                </td><td>ENSE00002234632                   </td><td>...                               </td><td>DDX11L1                           </td><td>ensembl_havana                    </td><td>ENST00000515242                   </td><td>DDX11L1-201                       </td><td>ensembl                           </td><td>TSS178604                         </td><td>NA                                </td><td>NA                                </td><td>NA                                </td><td>NA                                </td></tr>\n",
       "\t<tr><td>1                                 </td><td>11872                             </td><td>14412                             </td><td>2541                              </td><td>+                                 </td><td>transcribed_unprocessed_pseudogene</td><td>transcript                        </td><td>NA                                </td><td>NA                                </td><td>NA                                </td><td>...                               </td><td>DDX11L1                           </td><td>ensembl_havana                    </td><td>ENST00000515242                   </td><td>DDX11L1-201                       </td><td>ensembl                           </td><td>TSS178604                         </td><td>NA                                </td><td>NA                                </td><td>NA                                </td><td>NA                                </td></tr>\n",
       "\t<tr><td>1                                 </td><td>11874                             </td><td>12227                             </td><td> 354                              </td><td>+                                 </td><td>transcribed_unprocessed_pseudogene</td><td>exon                              </td><td>NA                                </td><td>NA                                </td><td>ENSE00002269724                   </td><td>...                               </td><td>DDX11L1                           </td><td>ensembl_havana                    </td><td>ENST00000518655                   </td><td>DDX11L1-202                       </td><td>ensembl                           </td><td>TSS192941                         </td><td>NA                                </td><td>NA                                </td><td>NA                                </td><td>NA                                </td></tr>\n",
       "\t<tr><td>1                                 </td><td>11874                             </td><td>14409                             </td><td>2536                              </td><td>+                                 </td><td>transcribed_unprocessed_pseudogene</td><td>transcript                        </td><td>NA                                </td><td>NA                                </td><td>NA                                </td><td>...                               </td><td>DDX11L1                           </td><td>ensembl_havana                    </td><td>ENST00000518655                   </td><td>DDX11L1-202                       </td><td>ensembl                           </td><td>TSS192941                         </td><td>NA                                </td><td>NA                                </td><td>NA                                </td><td>NA                                </td></tr>\n",
       "</tbody>\n",
       "</table>\n"
      ],
      "text/latex": [
       "\\begin{tabular}{r|lllllllllllllllllllllll}\n",
       " seqnames & start & end & width & strand & source & type & score & phase & exon\\_id & ... & gene\\_name & gene\\_source & transcript\\_id & transcript\\_name & transcript\\_source & tss\\_id & ccds\\_id & p\\_id & protein\\_id & tag\\\\\n",
       "\\hline\n",
       "\t 1                                    & 11869                                & 12227                                &  359                                 & +                                    & processed\\_transcript               & exon                                 & NA                                   & NA                                   & ENSE00002234944                      & ...                                  & DDX11L1                              & ensembl\\_havana                     & ENST00000456328                      & DDX11L1-002                          & havana                               & TSS15133                             & NA                                   & NA                                   & NA                                   & NA                                  \\\\\n",
       "\t 1                                    & 11869                                & 14409                                & 2541                                 & +                                    & processed\\_transcript               & transcript                           & NA                                   & NA                                   & NA                                   & ...                                  & DDX11L1                              & ensembl\\_havana                     & ENST00000456328                      & DDX11L1-002                          & havana                               & TSS15133                             & NA                                   & NA                                   & NA                                   & NA                                  \\\\\n",
       "\t 1                                      & 11872                                  & 12227                                  &  356                                   & +                                      & transcribed\\_unprocessed\\_pseudogene & exon                                   & NA                                     & NA                                     & ENSE00002234632                        & ...                                    & DDX11L1                                & ensembl\\_havana                       & ENST00000515242                        & DDX11L1-201                            & ensembl                                & TSS178604                              & NA                                     & NA                                     & NA                                     & NA                                    \\\\\n",
       "\t 1                                      & 11872                                  & 14412                                  & 2541                                   & +                                      & transcribed\\_unprocessed\\_pseudogene & transcript                             & NA                                     & NA                                     & NA                                     & ...                                    & DDX11L1                                & ensembl\\_havana                       & ENST00000515242                        & DDX11L1-201                            & ensembl                                & TSS178604                              & NA                                     & NA                                     & NA                                     & NA                                    \\\\\n",
       "\t 1                                      & 11874                                  & 12227                                  &  354                                   & +                                      & transcribed\\_unprocessed\\_pseudogene & exon                                   & NA                                     & NA                                     & ENSE00002269724                        & ...                                    & DDX11L1                                & ensembl\\_havana                       & ENST00000518655                        & DDX11L1-202                            & ensembl                                & TSS192941                              & NA                                     & NA                                     & NA                                     & NA                                    \\\\\n",
       "\t 1                                      & 11874                                  & 14409                                  & 2536                                   & +                                      & transcribed\\_unprocessed\\_pseudogene & transcript                             & NA                                     & NA                                     & NA                                     & ...                                    & DDX11L1                                & ensembl\\_havana                       & ENST00000518655                        & DDX11L1-202                            & ensembl                                & TSS192941                              & NA                                     & NA                                     & NA                                     & NA                                    \\\\\n",
       "\\end{tabular}\n"
      ],
      "text/markdown": [
       "\n",
       "| seqnames | start | end | width | strand | source | type | score | phase | exon_id | ... | gene_name | gene_source | transcript_id | transcript_name | transcript_source | tss_id | ccds_id | p_id | protein_id | tag |\n",
       "|---|---|---|---|---|---|---|---|---|---|---|---|---|---|---|---|---|---|---|---|---|\n",
       "| 1                                  | 11869                              | 12227                              |  359                               | +                                  | processed_transcript               | exon                               | NA                                 | NA                                 | ENSE00002234944                    | ...                                | DDX11L1                            | ensembl_havana                     | ENST00000456328                    | DDX11L1-002                        | havana                             | TSS15133                           | NA                                 | NA                                 | NA                                 | NA                                 |\n",
       "| 1                                  | 11869                              | 14409                              | 2541                               | +                                  | processed_transcript               | transcript                         | NA                                 | NA                                 | NA                                 | ...                                | DDX11L1                            | ensembl_havana                     | ENST00000456328                    | DDX11L1-002                        | havana                             | TSS15133                           | NA                                 | NA                                 | NA                                 | NA                                 |\n",
       "| 1                                  | 11872                              | 12227                              |  356                               | +                                  | transcribed_unprocessed_pseudogene | exon                               | NA                                 | NA                                 | ENSE00002234632                    | ...                                | DDX11L1                            | ensembl_havana                     | ENST00000515242                    | DDX11L1-201                        | ensembl                            | TSS178604                          | NA                                 | NA                                 | NA                                 | NA                                 |\n",
       "| 1                                  | 11872                              | 14412                              | 2541                               | +                                  | transcribed_unprocessed_pseudogene | transcript                         | NA                                 | NA                                 | NA                                 | ...                                | DDX11L1                            | ensembl_havana                     | ENST00000515242                    | DDX11L1-201                        | ensembl                            | TSS178604                          | NA                                 | NA                                 | NA                                 | NA                                 |\n",
       "| 1                                  | 11874                              | 12227                              |  354                               | +                                  | transcribed_unprocessed_pseudogene | exon                               | NA                                 | NA                                 | ENSE00002269724                    | ...                                | DDX11L1                            | ensembl_havana                     | ENST00000518655                    | DDX11L1-202                        | ensembl                            | TSS192941                          | NA                                 | NA                                 | NA                                 | NA                                 |\n",
       "| 1                                  | 11874                              | 14409                              | 2536                               | +                                  | transcribed_unprocessed_pseudogene | transcript                         | NA                                 | NA                                 | NA                                 | ...                                | DDX11L1                            | ensembl_havana                     | ENST00000518655                    | DDX11L1-202                        | ensembl                            | TSS192941                          | NA                                 | NA                                 | NA                                 | NA                                 |\n",
       "\n"
      ],
      "text/plain": [
       "  seqnames start end   width strand source                            \n",
       "1 1        11869 12227  359  +      processed_transcript              \n",
       "2 1        11869 14409 2541  +      processed_transcript              \n",
       "3 1        11872 12227  356  +      transcribed_unprocessed_pseudogene\n",
       "4 1        11872 14412 2541  +      transcribed_unprocessed_pseudogene\n",
       "5 1        11874 12227  354  +      transcribed_unprocessed_pseudogene\n",
       "6 1        11874 14409 2536  +      transcribed_unprocessed_pseudogene\n",
       "  type       score phase exon_id         ... gene_name gene_source   \n",
       "1 exon       NA    NA    ENSE00002234944 ... DDX11L1   ensembl_havana\n",
       "2 transcript NA    NA    NA              ... DDX11L1   ensembl_havana\n",
       "3 exon       NA    NA    ENSE00002234632 ... DDX11L1   ensembl_havana\n",
       "4 transcript NA    NA    NA              ... DDX11L1   ensembl_havana\n",
       "5 exon       NA    NA    ENSE00002269724 ... DDX11L1   ensembl_havana\n",
       "6 transcript NA    NA    NA              ... DDX11L1   ensembl_havana\n",
       "  transcript_id   transcript_name transcript_source tss_id    ccds_id p_id\n",
       "1 ENST00000456328 DDX11L1-002     havana            TSS15133  NA      NA  \n",
       "2 ENST00000456328 DDX11L1-002     havana            TSS15133  NA      NA  \n",
       "3 ENST00000515242 DDX11L1-201     ensembl           TSS178604 NA      NA  \n",
       "4 ENST00000515242 DDX11L1-201     ensembl           TSS178604 NA      NA  \n",
       "5 ENST00000518655 DDX11L1-202     ensembl           TSS192941 NA      NA  \n",
       "6 ENST00000518655 DDX11L1-202     ensembl           TSS192941 NA      NA  \n",
       "  protein_id tag\n",
       "1 NA         NA \n",
       "2 NA         NA \n",
       "3 NA         NA \n",
       "4 NA         NA \n",
       "5 NA         NA \n",
       "6 NA         NA "
      ]
     },
     "metadata": {},
     "output_type": "display_data"
    },
    {
     "data": {
      "text/html": [
       "<table>\n",
       "<thead><tr><th scope=col>V1</th><th scope=col>V2</th><th scope=col>V3</th><th scope=col>V4</th><th scope=col>V5</th><th scope=col>V6</th><th scope=col>V7</th><th scope=col>V8</th><th scope=col>V9</th></tr></thead>\n",
       "<tbody>\n",
       "\t<tr><td>1                                                                                                                                                                                                                                       </td><td>transcribed_unprocessed_pseudogene                                                                                                                                                                                                      </td><td>transcript                                                                                                                                                                                                                              </td><td>11874                                                                                                                                                                                                                                   </td><td>14409                                                                                                                                                                                                                                   </td><td>.                                                                                                                                                                                                                                       </td><td>+                                                                                                                                                                                                                                       </td><td>.                                                                                                                                                                                                                                       </td><td>gene_biotype=pseudogene;gene_id=ENSG00000223972;gene_name=DDX11L1;gene_source=ensembl_havana;transcript_id=ENST00000518655;transcript_name=DDX11L1-202;transcript_source=ensembl;tss_id=TSS192941;                                      </td></tr>\n",
       "\t<tr><td>1                                                                                                                                                                                                                                       </td><td>transcribed_unprocessed_pseudogene                                                                                                                                                                                                      </td><td>exon                                                                                                                                                                                                                                    </td><td>12010                                                                                                                                                                                                                                   </td><td>12057                                                                                                                                                                                                                                   </td><td>.                                                                                                                                                                                                                                       </td><td>+                                                                                                                                                                                                                                       </td><td>.                                                                                                                                                                                                                                       </td><td>exon_id=ENSE00001948541;exon_number=1;gene_biotype=pseudogene;gene_id=ENSG00000223972;gene_name=DDX11L1;gene_source=ensembl_havana;transcript_id=ENST00000450305;transcript_name=DDX11L1-001;transcript_source=havana;tss_id=TSS138561; </td></tr>\n",
       "\t<tr><td>1                                                                                                                                                                                                                                       </td><td>transcribed_unprocessed_pseudogene                                                                                                                                                                                                      </td><td>transcript                                                                                                                                                                                                                              </td><td>12010                                                                                                                                                                                                                                   </td><td>13670                                                                                                                                                                                                                                   </td><td>.                                                                                                                                                                                                                                       </td><td>+                                                                                                                                                                                                                                       </td><td>.                                                                                                                                                                                                                                       </td><td>gene_biotype=pseudogene;gene_id=ENSG00000223972;gene_name=DDX11L1;gene_source=ensembl_havana;transcript_id=ENST00000450305;transcript_name=DDX11L1-001;transcript_source=havana;tss_id=TSS138561;                                       </td></tr>\n",
       "\t<tr><td>1                                                                                                                                                                                                                                       </td><td>transcribed_unprocessed_pseudogene                                                                                                                                                                                                      </td><td>exon                                                                                                                                                                                                                                    </td><td>12179                                                                                                                                                                                                                                   </td><td>12227                                                                                                                                                                                                                                   </td><td>.                                                                                                                                                                                                                                       </td><td>+                                                                                                                                                                                                                                       </td><td>.                                                                                                                                                                                                                                       </td><td>exon_id=ENSE00001671638;exon_number=2;gene_biotype=pseudogene;gene_id=ENSG00000223972;gene_name=DDX11L1;gene_source=ensembl_havana;transcript_id=ENST00000450305;transcript_name=DDX11L1-001;transcript_source=havana;tss_id=TSS138561; </td></tr>\n",
       "\t<tr><td>1                                                                                                                                                                                                                                       </td><td>transcribed_unprocessed_pseudogene                                                                                                                                                                                                      </td><td>exon                                                                                                                                                                                                                                    </td><td>12595                                                                                                                                                                                                                                   </td><td>12721                                                                                                                                                                                                                                   </td><td>.                                                                                                                                                                                                                                       </td><td>+                                                                                                                                                                                                                                       </td><td>.                                                                                                                                                                                                                                       </td><td>exon_id=ENSE00002270865;exon_number=2;gene_biotype=pseudogene;gene_id=ENSG00000223972;gene_name=DDX11L1;gene_source=ensembl_havana;transcript_id=ENST00000518655;transcript_name=DDX11L1-202;transcript_source=ensembl;tss_id=TSS192941;</td></tr>\n",
       "\t<tr><td>1                                                                                                                                                                                                                                       </td><td>transcribed_unprocessed_pseudogene                                                                                                                                                                                                      </td><td>exon                                                                                                                                                                                                                                    </td><td>12613                                                                                                                                                                                                                                   </td><td>12697                                                                                                                                                                                                                                   </td><td>.                                                                                                                                                                                                                                       </td><td>+                                                                                                                                                                                                                                       </td><td>.                                                                                                                                                                                                                                       </td><td>exon_id=ENSE00001758273;exon_number=3;gene_biotype=pseudogene;gene_id=ENSG00000223972;gene_name=DDX11L1;gene_source=ensembl_havana;transcript_id=ENST00000450305;transcript_name=DDX11L1-001;transcript_source=havana;tss_id=TSS138561; </td></tr>\n",
       "</tbody>\n",
       "</table>\n"
      ],
      "text/latex": [
       "\\begin{tabular}{r|lllllllll}\n",
       " V1 & V2 & V3 & V4 & V5 & V6 & V7 & V8 & V9\\\\\n",
       "\\hline\n",
       "\t 1                                                                                                                                                                                                                                                          & transcribed\\_unprocessed\\_pseudogene                                                                                                                                                                                                                     & transcript                                                                                                                                                                                                                                                 & 11874                                                                                                                                                                                                                                                      & 14409                                                                                                                                                                                                                                                      & .                                                                                                                                                                                                                                                          & +                                                                                                                                                                                                                                                          & .                                                                                                                                                                                                                                                          & gene\\_biotype=pseudogene;gene\\_id=ENSG00000223972;gene\\_name=DDX11L1;gene\\_source=ensembl\\_havana;transcript\\_id=ENST00000518655;transcript\\_name=DDX11L1-202;transcript\\_source=ensembl;tss\\_id=TSS192941;                                      \\\\\n",
       "\t 1                                                                                                                                                                                                                                                              & transcribed\\_unprocessed\\_pseudogene                                                                                                                                                                                                                         & exon                                                                                                                                                                                                                                                           & 12010                                                                                                                                                                                                                                                          & 12057                                                                                                                                                                                                                                                          & .                                                                                                                                                                                                                                                              & +                                                                                                                                                                                                                                                              & .                                                                                                                                                                                                                                                              & exon\\_id=ENSE00001948541;exon\\_number=1;gene\\_biotype=pseudogene;gene\\_id=ENSG00000223972;gene\\_name=DDX11L1;gene\\_source=ensembl\\_havana;transcript\\_id=ENST00000450305;transcript\\_name=DDX11L1-001;transcript\\_source=havana;tss\\_id=TSS138561; \\\\\n",
       "\t 1                                                                                                                                                                                                                                                          & transcribed\\_unprocessed\\_pseudogene                                                                                                                                                                                                                     & transcript                                                                                                                                                                                                                                                 & 12010                                                                                                                                                                                                                                                      & 13670                                                                                                                                                                                                                                                      & .                                                                                                                                                                                                                                                          & +                                                                                                                                                                                                                                                          & .                                                                                                                                                                                                                                                          & gene\\_biotype=pseudogene;gene\\_id=ENSG00000223972;gene\\_name=DDX11L1;gene\\_source=ensembl\\_havana;transcript\\_id=ENST00000450305;transcript\\_name=DDX11L1-001;transcript\\_source=havana;tss\\_id=TSS138561;                                       \\\\\n",
       "\t 1                                                                                                                                                                                                                                                              & transcribed\\_unprocessed\\_pseudogene                                                                                                                                                                                                                         & exon                                                                                                                                                                                                                                                           & 12179                                                                                                                                                                                                                                                          & 12227                                                                                                                                                                                                                                                          & .                                                                                                                                                                                                                                                              & +                                                                                                                                                                                                                                                              & .                                                                                                                                                                                                                                                              & exon\\_id=ENSE00001671638;exon\\_number=2;gene\\_biotype=pseudogene;gene\\_id=ENSG00000223972;gene\\_name=DDX11L1;gene\\_source=ensembl\\_havana;transcript\\_id=ENST00000450305;transcript\\_name=DDX11L1-001;transcript\\_source=havana;tss\\_id=TSS138561; \\\\\n",
       "\t 1                                                                                                                                                                                                                                                              & transcribed\\_unprocessed\\_pseudogene                                                                                                                                                                                                                         & exon                                                                                                                                                                                                                                                           & 12595                                                                                                                                                                                                                                                          & 12721                                                                                                                                                                                                                                                          & .                                                                                                                                                                                                                                                              & +                                                                                                                                                                                                                                                              & .                                                                                                                                                                                                                                                              & exon\\_id=ENSE00002270865;exon\\_number=2;gene\\_biotype=pseudogene;gene\\_id=ENSG00000223972;gene\\_name=DDX11L1;gene\\_source=ensembl\\_havana;transcript\\_id=ENST00000518655;transcript\\_name=DDX11L1-202;transcript\\_source=ensembl;tss\\_id=TSS192941;\\\\\n",
       "\t 1                                                                                                                                                                                                                                                              & transcribed\\_unprocessed\\_pseudogene                                                                                                                                                                                                                         & exon                                                                                                                                                                                                                                                           & 12613                                                                                                                                                                                                                                                          & 12697                                                                                                                                                                                                                                                          & .                                                                                                                                                                                                                                                              & +                                                                                                                                                                                                                                                              & .                                                                                                                                                                                                                                                              & exon\\_id=ENSE00001758273;exon\\_number=3;gene\\_biotype=pseudogene;gene\\_id=ENSG00000223972;gene\\_name=DDX11L1;gene\\_source=ensembl\\_havana;transcript\\_id=ENST00000450305;transcript\\_name=DDX11L1-001;transcript\\_source=havana;tss\\_id=TSS138561; \\\\\n",
       "\\end{tabular}\n"
      ],
      "text/markdown": [
       "\n",
       "| V1 | V2 | V3 | V4 | V5 | V6 | V7 | V8 | V9 |\n",
       "|---|---|---|---|---|---|---|---|---|\n",
       "| 1                                                                                                                                                                                                                                        | transcribed_unprocessed_pseudogene                                                                                                                                                                                                       | transcript                                                                                                                                                                                                                               | 11874                                                                                                                                                                                                                                    | 14409                                                                                                                                                                                                                                    | .                                                                                                                                                                                                                                        | +                                                                                                                                                                                                                                        | .                                                                                                                                                                                                                                        | gene_biotype=pseudogene;gene_id=ENSG00000223972;gene_name=DDX11L1;gene_source=ensembl_havana;transcript_id=ENST00000518655;transcript_name=DDX11L1-202;transcript_source=ensembl;tss_id=TSS192941;                                       |\n",
       "| 1                                                                                                                                                                                                                                        | transcribed_unprocessed_pseudogene                                                                                                                                                                                                       | exon                                                                                                                                                                                                                                     | 12010                                                                                                                                                                                                                                    | 12057                                                                                                                                                                                                                                    | .                                                                                                                                                                                                                                        | +                                                                                                                                                                                                                                        | .                                                                                                                                                                                                                                        | exon_id=ENSE00001948541;exon_number=1;gene_biotype=pseudogene;gene_id=ENSG00000223972;gene_name=DDX11L1;gene_source=ensembl_havana;transcript_id=ENST00000450305;transcript_name=DDX11L1-001;transcript_source=havana;tss_id=TSS138561;  |\n",
       "| 1                                                                                                                                                                                                                                        | transcribed_unprocessed_pseudogene                                                                                                                                                                                                       | transcript                                                                                                                                                                                                                               | 12010                                                                                                                                                                                                                                    | 13670                                                                                                                                                                                                                                    | .                                                                                                                                                                                                                                        | +                                                                                                                                                                                                                                        | .                                                                                                                                                                                                                                        | gene_biotype=pseudogene;gene_id=ENSG00000223972;gene_name=DDX11L1;gene_source=ensembl_havana;transcript_id=ENST00000450305;transcript_name=DDX11L1-001;transcript_source=havana;tss_id=TSS138561;                                        |\n",
       "| 1                                                                                                                                                                                                                                        | transcribed_unprocessed_pseudogene                                                                                                                                                                                                       | exon                                                                                                                                                                                                                                     | 12179                                                                                                                                                                                                                                    | 12227                                                                                                                                                                                                                                    | .                                                                                                                                                                                                                                        | +                                                                                                                                                                                                                                        | .                                                                                                                                                                                                                                        | exon_id=ENSE00001671638;exon_number=2;gene_biotype=pseudogene;gene_id=ENSG00000223972;gene_name=DDX11L1;gene_source=ensembl_havana;transcript_id=ENST00000450305;transcript_name=DDX11L1-001;transcript_source=havana;tss_id=TSS138561;  |\n",
       "| 1                                                                                                                                                                                                                                        | transcribed_unprocessed_pseudogene                                                                                                                                                                                                       | exon                                                                                                                                                                                                                                     | 12595                                                                                                                                                                                                                                    | 12721                                                                                                                                                                                                                                    | .                                                                                                                                                                                                                                        | +                                                                                                                                                                                                                                        | .                                                                                                                                                                                                                                        | exon_id=ENSE00002270865;exon_number=2;gene_biotype=pseudogene;gene_id=ENSG00000223972;gene_name=DDX11L1;gene_source=ensembl_havana;transcript_id=ENST00000518655;transcript_name=DDX11L1-202;transcript_source=ensembl;tss_id=TSS192941; |\n",
       "| 1                                                                                                                                                                                                                                        | transcribed_unprocessed_pseudogene                                                                                                                                                                                                       | exon                                                                                                                                                                                                                                     | 12613                                                                                                                                                                                                                                    | 12697                                                                                                                                                                                                                                    | .                                                                                                                                                                                                                                        | +                                                                                                                                                                                                                                        | .                                                                                                                                                                                                                                        | exon_id=ENSE00001758273;exon_number=3;gene_biotype=pseudogene;gene_id=ENSG00000223972;gene_name=DDX11L1;gene_source=ensembl_havana;transcript_id=ENST00000450305;transcript_name=DDX11L1-001;transcript_source=havana;tss_id=TSS138561;  |\n",
       "\n"
      ],
      "text/plain": [
       "  V1 V2                                 V3         V4    V5    V6 V7 V8\n",
       "1 1  transcribed_unprocessed_pseudogene transcript 11874 14409 .  +  . \n",
       "2 1  transcribed_unprocessed_pseudogene exon       12010 12057 .  +  . \n",
       "3 1  transcribed_unprocessed_pseudogene transcript 12010 13670 .  +  . \n",
       "4 1  transcribed_unprocessed_pseudogene exon       12179 12227 .  +  . \n",
       "5 1  transcribed_unprocessed_pseudogene exon       12595 12721 .  +  . \n",
       "6 1  transcribed_unprocessed_pseudogene exon       12613 12697 .  +  . \n",
       "  V9                                                                                                                                                                                                                                      \n",
       "1 gene_biotype=pseudogene;gene_id=ENSG00000223972;gene_name=DDX11L1;gene_source=ensembl_havana;transcript_id=ENST00000518655;transcript_name=DDX11L1-202;transcript_source=ensembl;tss_id=TSS192941;                                      \n",
       "2 exon_id=ENSE00001948541;exon_number=1;gene_biotype=pseudogene;gene_id=ENSG00000223972;gene_name=DDX11L1;gene_source=ensembl_havana;transcript_id=ENST00000450305;transcript_name=DDX11L1-001;transcript_source=havana;tss_id=TSS138561; \n",
       "3 gene_biotype=pseudogene;gene_id=ENSG00000223972;gene_name=DDX11L1;gene_source=ensembl_havana;transcript_id=ENST00000450305;transcript_name=DDX11L1-001;transcript_source=havana;tss_id=TSS138561;                                       \n",
       "4 exon_id=ENSE00001671638;exon_number=2;gene_biotype=pseudogene;gene_id=ENSG00000223972;gene_name=DDX11L1;gene_source=ensembl_havana;transcript_id=ENST00000450305;transcript_name=DDX11L1-001;transcript_source=havana;tss_id=TSS138561; \n",
       "5 exon_id=ENSE00002270865;exon_number=2;gene_biotype=pseudogene;gene_id=ENSG00000223972;gene_name=DDX11L1;gene_source=ensembl_havana;transcript_id=ENST00000518655;transcript_name=DDX11L1-202;transcript_source=ensembl;tss_id=TSS192941;\n",
       "6 exon_id=ENSE00001758273;exon_number=3;gene_biotype=pseudogene;gene_id=ENSG00000223972;gene_name=DDX11L1;gene_source=ensembl_havana;transcript_id=ENST00000450305;transcript_name=DDX11L1-001;transcript_source=havana;tss_id=TSS138561; "
      ]
     },
     "metadata": {},
     "output_type": "display_data"
    }
   ],
   "source": [
    "# tried making df, which seq_gtf says it accepts. NOPE. Neither of these options work for seq_gtf\n",
    "hgtf_df <- as.data.frame(filtered)\n",
    "head(hgtf_df) # this over expands the `attribute` column\n",
    "gff <- read.delim('chromosomes.gff3', header = FALSE, sep = '\\t', skip = 8)\n",
    "head(gff)"
   ]
  },
  {
   "cell_type": "markdown",
   "metadata": {},
   "source": [
    "## Subset fasta instead"
   ]
  },
  {
   "cell_type": "code",
   "execution_count": 16,
   "metadata": {},
   "outputs": [],
   "source": [
    "cdkn2a_ranges <- subset(filtered, gene_name == \"CDKN2A\")"
   ]
  },
  {
   "cell_type": "code",
   "execution_count": 29,
   "metadata": {},
   "outputs": [
    {
     "data": {
      "text/plain": [
       "GRanges object with 153 ranges and 18 metadata columns:\n",
       "        seqnames            ranges strand |               source       type\n",
       "           <Rle>         <IRanges>  <Rle> |             <factor>   <factor>\n",
       "    [1]        9 21967751-21968241      - |       protein_coding        UTR\n",
       "    [2]        9 21967751-21968241      - |       protein_coding       exon\n",
       "    [3]        9 21967751-21994490      - |       protein_coding transcript\n",
       "    [4]        9 21967752-21968227      - |       protein_coding        UTR\n",
       "    [5]        9 21967752-21968241      - |       protein_coding        UTR\n",
       "    ...      ...               ...    ... .                  ...        ...\n",
       "  [149]        9 21994820-21995268      - |       protein_coding        UTR\n",
       "  [150]        9 21994820-21995300      - |       protein_coding        UTR\n",
       "  [151]        9 21994820-21994872      - | processed_transcript       exon\n",
       "  [152]        9 21994820-21995268      - |       protein_coding       exon\n",
       "  [153]        9 21994820-21995300      - |       protein_coding       exon\n",
       "            score     phase         exon_id exon_number   gene_biotype\n",
       "        <numeric> <integer>     <character> <character>    <character>\n",
       "    [1]      <NA>      <NA>            <NA>        <NA> protein_coding\n",
       "    [2]      <NA>      <NA> ENSE00002202547           3 protein_coding\n",
       "    [3]      <NA>      <NA>            <NA>        <NA> protein_coding\n",
       "    [4]      <NA>      <NA>            <NA>        <NA> protein_coding\n",
       "    [5]      <NA>      <NA>            <NA>        <NA> protein_coding\n",
       "    ...       ...       ...             ...         ...            ...\n",
       "  [149]      <NA>      <NA>            <NA>        <NA> protein_coding\n",
       "  [150]      <NA>      <NA>            <NA>        <NA> protein_coding\n",
       "  [151]      <NA>      <NA> ENSE00001925197           1 protein_coding\n",
       "  [152]      <NA>      <NA> ENSE00001916712           1 protein_coding\n",
       "  [153]      <NA>      <NA> ENSE00001869207           1 protein_coding\n",
       "                gene_id   gene_name    gene_source   transcript_id\n",
       "            <character> <character>    <character>     <character>\n",
       "    [1] ENSG00000147889      CDKN2A ensembl_havana ENST00000361570\n",
       "    [2] ENSG00000147889      CDKN2A ensembl_havana ENST00000361570\n",
       "    [3] ENSG00000147889      CDKN2A ensembl_havana ENST00000361570\n",
       "    [4] ENSG00000147889      CDKN2A ensembl_havana ENST00000304494\n",
       "    [5] ENSG00000147889      CDKN2A ensembl_havana ENST00000579755\n",
       "    ...             ...         ...            ...             ...\n",
       "  [149] ENSG00000147889      CDKN2A ensembl_havana ENST00000494262\n",
       "  [150] ENSG00000147889      CDKN2A ensembl_havana ENST00000498628\n",
       "  [151] ENSG00000147889      CDKN2A ensembl_havana ENST00000470819\n",
       "  [152] ENSG00000147889      CDKN2A ensembl_havana ENST00000494262\n",
       "  [153] ENSG00000147889      CDKN2A ensembl_havana ENST00000498628\n",
       "        transcript_name transcript_source      tss_id     ccds_id        p_id\n",
       "            <character>       <character> <character> <character> <character>\n",
       "    [1]      CDKN2A-201           ensembl    TSS61444        <NA>      P47240\n",
       "    [2]      CDKN2A-201           ensembl    TSS61444        <NA>      P47240\n",
       "    [3]      CDKN2A-201           ensembl    TSS61444        <NA>      P47240\n",
       "    [4]      CDKN2A-001    ensembl_havana   TSS191388    CCDS6510      P82756\n",
       "    [5]      CDKN2A-004            havana   TSS145228    CCDS6511      P76663\n",
       "    ...             ...               ...         ...         ...         ...\n",
       "  [149]      CDKN2A-005            havana    TSS12686        <NA>      P47384\n",
       "  [150]      CDKN2A-006            havana   TSS187353        <NA>      P47384\n",
       "  [151]      CDKN2A-007            havana     TSS3825        <NA>        <NA>\n",
       "  [152]      CDKN2A-005            havana    TSS12686        <NA>      P47384\n",
       "  [153]      CDKN2A-006            havana   TSS187353        <NA>      P47384\n",
       "         protein_id         tag\n",
       "        <character> <character>\n",
       "    [1]        <NA>        <NA>\n",
       "    [2]        <NA>        <NA>\n",
       "    [3]        <NA>        <NA>\n",
       "    [4]        <NA>        CCDS\n",
       "    [5]        <NA>        CCDS\n",
       "    ...         ...         ...\n",
       "  [149]        <NA>        <NA>\n",
       "  [150]        <NA>        <NA>\n",
       "  [151]        <NA>        <NA>\n",
       "  [152]        <NA>        <NA>\n",
       "  [153]        <NA>        <NA>\n",
       "  -------\n",
       "  seqinfo: 265 sequences from an unspecified genome; no seqlengths"
      ]
     },
     "metadata": {},
     "output_type": "display_data"
    }
   ],
   "source": [
    "cdkn2a_ranges\n",
    "export(cdkn2a_ranges, \"cdkn2a.gff3\")"
   ]
  },
  {
   "cell_type": "code",
   "execution_count": 18,
   "metadata": {},
   "outputs": [],
   "source": [
    "hsap_fasta = readDNAStringSet(hsapiens_fasta)"
   ]
  },
  {
   "cell_type": "code",
   "execution_count": 27,
   "metadata": {},
   "outputs": [
    {
     "data": {
      "text/plain": [
       "Seqinfo object with 25 sequences from an unspecified genome:\n",
       "  seqnames seqlengths isCircular genome\n",
       "  1         249250621       <NA>   <NA>\n",
       "  2         243199373       <NA>   <NA>\n",
       "  3         198022430       <NA>   <NA>\n",
       "  4         191154276       <NA>   <NA>\n",
       "  5         180915260       <NA>   <NA>\n",
       "  ...             ...        ...    ...\n",
       "  21         48129895       <NA>   <NA>\n",
       "  22         51304566       <NA>   <NA>\n",
       "  X         155270560       <NA>   <NA>\n",
       "  Y          59373566       <NA>   <NA>\n",
       "  MT            16569       <NA>   <NA>"
      ]
     },
     "metadata": {},
     "output_type": "display_data"
    }
   ],
   "source": [
    "seqinfo(hsap_fasta)"
   ]
  },
  {
   "cell_type": "code",
   "execution_count": 19,
   "metadata": {},
   "outputs": [
    {
     "data": {
      "text/plain": [
       "  A DNAStringSet instance of length 2\n",
       "    width seq\n",
       "[1]     4 AAAC\n",
       "[2]     6 CAANAA"
      ]
     },
     "metadata": {},
     "output_type": "display_data"
    }
   ],
   "source": [
    "x <- DNAStringSet(c(chr1=\"ACAANAAGG\", chr2=\"GGGGTTT\"))\n",
    "getSeq(x, GRanges(c(\"chr2:4-7:-\", \"chr1:2-7\")))\n"
   ]
  },
  {
   "cell_type": "code",
   "execution_count": 22,
   "metadata": {},
   "outputs": [
    {
     "data": {
      "text/plain": [
       "IRanges object with 153 ranges and 0 metadata columns:\n",
       "            start       end     width\n",
       "        <integer> <integer> <integer>\n",
       "    [1]  21967751  21968241       491\n",
       "    [2]  21967751  21968241       491\n",
       "    [3]  21967751  21994490     26740\n",
       "    [4]  21967752  21968227       476\n",
       "    [5]  21967752  21968241       490\n",
       "    ...       ...       ...       ...\n",
       "  [149]  21994820  21995268       449\n",
       "  [150]  21994820  21995300       481\n",
       "  [151]  21994820  21994872        53\n",
       "  [152]  21994820  21995268       449\n",
       "  [153]  21994820  21995300       481"
      ]
     },
     "metadata": {},
     "output_type": "display_data"
    }
   ],
   "source": [
    "ranges(cdkn2a_ranges)\n"
   ]
  },
  {
   "cell_type": "code",
   "execution_count": 28,
   "metadata": {},
   "outputs": [
    {
     "ename": "ERROR",
     "evalue": "Error: subscript contains invalid names\n",
     "output_type": "error",
     "traceback": [
      "Error: subscript contains invalid names\nTraceback:\n",
      "1. getSeq(hsap_fasta, cdkn2a_ranges)",
      "2. getSeq(hsap_fasta, cdkn2a_ranges)",
      "3. .local(x, ...)",
      "4. unsplit(extractAt(x[names(rl)], unname(rl)), seqnames(gr))",
      "5. extractAt(x[names(rl)], unname(rl))",
      "6. x[names(rl)]",
      "7. x[names(rl)]",
      "8. subset_along_ROWS(x, i, drop = drop)",
      "9. extractROWS(x, i)",
      "10. extractROWS(x, i)",
      "11. .dropUnusedPoolElts(callNextMethod())",
      "12. callNextMethod()",
      "13. .nextMethod(x = x, i = i)",
      "14. normalizeSingleBracketSubscript(i, x, as.NSBS = TRUE)",
      "15. NSBS(i, x, exact = exact, strict.upper.bound = !allow.append, \n  .     allow.NAs = allow.NAs)",
      "16. NSBS(i, x, exact = exact, strict.upper.bound = !allow.append, \n  .     allow.NAs = allow.NAs)",
      "17. .subscript_error(\"subscript contains invalid \", what)",
      "18. stop(wmsg(...), call. = FALSE)"
     ]
    }
   ],
   "source": [
    "getSeq(hsap_fasta, cdkn2a_ranges)"
   ]
  },
  {
   "cell_type": "code",
   "execution_count": 32,
   "metadata": {},
   "outputs": [],
   "source": [
    "export(subset(filtered, gene_name == \"GNAS\"), \"GNAS.gff3\")\n",
    "\n",
    "export(subset(filtered, gene_name == \"AGER\"), \"AGER.gff3\")\n",
    "\n",
    "export(subset(filtered, gene_name == \"CSF2RA\"), \"CSF2RA.gff3\")\n",
    "\n",
    "export(subset(filtered, gene_name == \"GNRHR\"), \"GNRHR.gff3\")\n",
    "\n",
    "export(subset(filtered, gene_name == \"XBP1\"), \"XBP1.gff3\")"
   ]
  },
  {
   "cell_type": "code",
   "execution_count": null,
   "metadata": {},
   "outputs": [],
   "source": [
    "## OK, gff3/gtf does NOT work rn in polyester. instead of using R, let's use bedtools\n",
    "#bedtools getfasta -fi ../Homo_sapiens/Ensembl/GRCh37/Sequence/WholeGenomeFasta/genome.fa  -bed gnas.gff3 > GNAS.fasta"
   ]
  },
  {
   "cell_type": "code",
   "execution_count": 54,
   "metadata": {},
   "outputs": [
    {
     "data": {
      "text/plain": [
       "  A DNAStringSet instance of length 6\n",
       "        width seq                                           names               \n",
       "[1] 249250621 NNNNNNNNNNNNNNNNNNNNN...NNNNNNNNNNNNNNNNNNNNN 1\n",
       "[2] 243199373 NNNNNNNNNNNNNNNNNNNNN...NNNNNNNNNNNNNNNNNNNNN 2\n",
       "[3] 198022430 NNNNNNNNNNNNNNNNNNNNN...NNNNNNNNNNNNNNNNNNNNN 3\n",
       "[4] 191154276 NNNNNNNNNNNNNNNNNNNNN...NNNNNNNNNNNNNNNNNNNNN 4\n",
       "[5] 180915260 NNNNNNNNNNNNNNNNNNNNN...NNNNNNNNNNNNNNNNNNNNN 5\n",
       "[6] 171115067 NNNNNNNNNNNNNNNNNNNNN...NNNNNNNNNNNNNNNNNNNNN 6"
      ]
     },
     "metadata": {},
     "output_type": "display_data"
    }
   ],
   "source": []
  },
  {
   "cell_type": "code",
   "execution_count": 63,
   "metadata": {},
   "outputs": [
    {
     "ename": "ERROR",
     "evalue": "Error in seq_gtf(gtf = gff, seqs = hsap_fasta, feature = \"transcript\", : one or more columns of gtf have the wrong class\n",
     "output_type": "error",
     "traceback": [
      "Error in seq_gtf(gtf = gff, seqs = hsap_fasta, feature = \"transcript\", : one or more columns of gtf have the wrong class\nTraceback:\n",
      "1. seq_gtf(gtf = gff, seqs = hsap_fasta, feature = \"transcript\", \n .     exononly = TRUE, idfield = \"transcript_id\", attrsep = \"; \")",
      "2. stop(\"one or more columns of gtf have the wrong class\")"
     ]
    }
   ],
   "source": [
    "# none of seq_gtf or simulate experiment with gtf file work, even using the filtered gff file. INSTEAD, subset the fasta first using the gff, then feed the specific fasta file into polyester\n",
    "\n",
    "#seq_gtf(gtf=gff, seqs=hsap_fasta, feature = \"transcript\", exononly = TRUE, idfield = \"transcript_id\", attrsep = \"; \")\n",
    "#seq_gtf(filtered, seqs=hsap_fasta, feature = \"transcript\", exononly = TRUE, idfield = \"transcript_id\", attrsep = \"; \")"
   ]
  },
  {
   "cell_type": "code",
   "execution_count": 7,
   "metadata": {},
   "outputs": [],
   "source": [
    "# OK THIS ACTUALLY WORKS --> can do this for each gene\n",
    "#setwd(\"/Users/tessa/dib-lab/kmerslay-analysis/simulate_reads\")\n",
    "gnas = readDNAStringSet(\"GNAS.fasta\")\n",
    "outD= \"hsapiens_sim/gnas\"\n",
    "num_timepoints = 2\n",
    "#reads_per_tx_gnas = round(20 * width(gnas) / 100)\n",
    "reads_per_tx = 1000\n",
    "countmat = matrix(reads_per_tx, nrow=length(gnas), ncol=num_timepoints)\n",
    "\n",
    "simulate_experiment_countmat(fasta=\"GNAS.fasta\", readmat=countmat, reportCoverage=TRUE, readlen=150, paired=FALSE, outdir=outD)"
   ]
  },
  {
   "cell_type": "code",
   "execution_count": 11,
   "metadata": {},
   "outputs": [],
   "source": [
    "# use this for all simulations: 5 samples, 1000 reads per transcript\n",
    "num_timepoints = 5\n",
    "reads_per_tx = 1000"
   ]
  },
  {
   "cell_type": "code",
   "execution_count": 12,
   "metadata": {},
   "outputs": [],
   "source": [
    "#all genes\n",
    "setwd(\"/Users/tessa/dib-lab/kmerslay-analysis/simulate_reads\")\n",
    "\n",
    "countmat = matrix(reads_per_tx, nrow=length(readDNAStringSet(\"AGER.fasta\")), ncol=num_timepoints)\n",
    "simulate_experiment_countmat(fasta=\"AGER.fasta\", readmat=countmat, reportCoverage=TRUE, readlen=150, paired=FALSE, outdir=\"hsapiens_sim/AGER\")\n",
    "\n",
    "countmat = matrix(reads_per_tx, nrow=length(readDNAStringSet(\"CDKN2A.fasta\")), ncol=num_timepoints)\n",
    "simulate_experiment_countmat(fasta=\"CDKN2A.fasta\", readmat=countmat, reportCoverage=TRUE, readlen=150, paired=FALSE, outdir=\"hsapiens_sim/CDKN2A\")\n",
    "\n",
    "countmat = matrix(reads_per_tx, nrow=length(readDNAStringSet(\"CSF2RA.fasta\")), ncol=num_timepoints)\n",
    "simulate_experiment_countmat(fasta=\"CSF2RA.fasta\", readmat=countmat, reportCoverage=TRUE, readlen=150, paired=FALSE, outdir=\"hsapiens_sim/CSF2RA\")\n",
    "\n",
    "countmat = matrix(reads_per_tx, nrow=length(readDNAStringSet(\"GNAS.fasta\")), ncol=num_timepoints)\n",
    "simulate_experiment_countmat(fasta=\"GNAS.fasta\", readmat=countmat, reportCoverage=TRUE, readlen=150, paired=FALSE, outdir=\"hsapiens_sim/GNAS\")\n",
    "\n",
    "countmat = matrix(reads_per_tx, nrow=length(readDNAStringSet(\"GNRHR.fasta\")), ncol=num_timepoints)\n",
    "simulate_experiment_countmat(fasta=\"GNRHR.fasta\", readmat=countmat, reportCoverage=TRUE, readlen=150, paired=FALSE, outdir=\"hsapiens_sim/GNRHR\")\n",
    "\n",
    "countmat = matrix(reads_per_tx, nrow=length(readDNAStringSet(\"XBP1.fasta\")), ncol=num_timepoints)\n",
    "simulate_experiment_countmat(fasta=\"XBP1.fasta\", readmat=countmat, reportCoverage=TRUE, readlen=150, paired=FALSE, outdir=\"hsapiens_sim/XBP1\")\n",
    "\n",
    "\n"
   ]
  },
  {
   "cell_type": "code",
   "execution_count": 71,
   "metadata": {},
   "outputs": [
    {
     "data": {
      "text/html": [
       "'DNAStringSet'"
      ],
      "text/latex": [
       "'DNAStringSet'"
      ],
      "text/markdown": [
       "'DNAStringSet'"
      ],
      "text/plain": [
       "[1] \"DNAStringSet\"\n",
       "attr(,\"package\")\n",
       "[1] \"Biostrings\""
      ]
     },
     "metadata": {},
     "output_type": "display_data"
    }
   ],
   "source": []
  },
  {
   "cell_type": "code",
   "execution_count": 38,
   "metadata": {},
   "outputs": [
    {
     "data": {
      "text/plain": [
       "R Information\n",
       "\n",
       "Help files with alias or concept or title matching\n",
       "‘simulate_experiment’ using regular expression matching:\n",
       "\n",
       "\n",
       "polyester::simulate_experiment\n",
       "                        simulate RNA-seq experiment using negative\n",
       "                        binomial model\n",
       "  Aliases: simulate_experiment\n",
       "polyester::simulate_experiment_countmat\n",
       "                        Simulate RNA-seq experiment\n",
       "  Aliases: simulate_experiment_countmat\n",
       "polyester::simulate_experiment_empirical\n",
       "                        Simulate RNA-seq experiment based on abundances\n",
       "                        from a data set\n",
       "  Aliases: simulate_experiment_empirical\n",
       "\n",
       "\n",
       "Type '?PKG::FOO' to inspect entries 'PKG::FOO', or 'TYPE?PKG::FOO' for\n",
       "entries like 'PKG::FOO-TYPE'.\n",
       "\n",
       "\n"
      ]
     },
     "metadata": {},
     "output_type": "display_data"
    }
   ],
   "source": [
    "??simulate_experiment"
   ]
  },
  {
   "cell_type": "code",
   "execution_count": null,
   "metadata": {},
   "outputs": [],
   "source": []
  },
  {
   "cell_type": "code",
   "execution_count": null,
   "metadata": {},
   "outputs": [],
   "source": []
  },
  {
   "cell_type": "code",
   "execution_count": null,
   "metadata": {},
   "outputs": [],
   "source": []
  },
  {
   "cell_type": "code",
   "execution_count": 52,
   "metadata": {},
   "outputs": [
    {
     "name": "stderr",
     "output_type": "stream",
     "text": [
      "parsing gtf and sequences...\n"
     ]
    },
    {
     "ename": "ERROR",
     "evalue": "Error in if (substr(names(these_seqs)[1], 1, 1) == \"\\\"\") {: missing value where TRUE/FALSE needed\n",
     "output_type": "error",
     "traceback": [
      "Error in if (substr(names(these_seqs)[1], 1, 1) == \"\\\"\") {: missing value where TRUE/FALSE needed\nTraceback:\n",
      "1. simulate_experiment(gtf = \"chromosomes.gff3\", seqpath = \"/Users/tessa/dib-lab/kmerslay-analysis/Homo_sapiens/Ensembl/GRCh37/Sequence/Chromosomes\", \n .     outdir = \"hsapiens_sim\", idfield = \"transcript_id\", reads_per_transcript = 300, \n .     seed = 142, )",
      "2. seq_gtf(gtf, seqpath, feature = \"transcript\", exononly = exononly, \n .     idfield = idfield, attrsep = attrsep)",
      "3. lapply(chrs, function(chr) {\n .     dftmp = gtf_dat[gtf_dat[, 1] == chr, ]\n .     if (is.character(seqs)) {\n .         fullseq = readDNAStringSet(paste0(seqs, \"/\", chr, \".fa\"))\n .     }\n .     else {\n .         fullseq = seqs[which(names(seqs) == chr)]\n .     }\n .     if (feature == \"exon\") {\n .         dftmp = dftmp[!duplicated(dftmp[, c(1, 4, 5, 7)]), ]\n .     }\n .     these_seqs = subseq(rep(fullseq, times = nrow(dftmp)), start = dftmp$start, \n .         end = dftmp$end)\n .     if (feature == \"transcript\") {\n .         names(these_seqs) = getAttributeField(dftmp$attributes, \n .             idfield, attrsep = attrsep)\n .         if (substr(names(these_seqs)[1], 1, 1) == \"\\\"\") {\n .             x = names(these_seqs)\n .             names(these_seqs) = substr(x, 2, nchar(x) - 1)\n .         }\n .     }\n .     else {\n .         names(these_seqs) = paste0(dftmp[, 1], \":\", dftmp[, 4], \n .             \"-\", dftmp[, 5], \"(\", dftmp[, 7], \")\")\n .     }\n .     revstrand = which(dftmp$strand == \"-\")\n .     these_seqs[revstrand] = reverseComplement(these_seqs[revstrand])\n .     these_seqs\n . })",
      "4. lapply(chrs, function(chr) {\n .     dftmp = gtf_dat[gtf_dat[, 1] == chr, ]\n .     if (is.character(seqs)) {\n .         fullseq = readDNAStringSet(paste0(seqs, \"/\", chr, \".fa\"))\n .     }\n .     else {\n .         fullseq = seqs[which(names(seqs) == chr)]\n .     }\n .     if (feature == \"exon\") {\n .         dftmp = dftmp[!duplicated(dftmp[, c(1, 4, 5, 7)]), ]\n .     }\n .     these_seqs = subseq(rep(fullseq, times = nrow(dftmp)), start = dftmp$start, \n .         end = dftmp$end)\n .     if (feature == \"transcript\") {\n .         names(these_seqs) = getAttributeField(dftmp$attributes, \n .             idfield, attrsep = attrsep)\n .         if (substr(names(these_seqs)[1], 1, 1) == \"\\\"\") {\n .             x = names(these_seqs)\n .             names(these_seqs) = substr(x, 2, nchar(x) - 1)\n .         }\n .     }\n .     else {\n .         names(these_seqs) = paste0(dftmp[, 1], \":\", dftmp[, 4], \n .             \"-\", dftmp[, 5], \"(\", dftmp[, 7], \")\")\n .     }\n .     revstrand = which(dftmp$strand == \"-\")\n .     these_seqs[revstrand] = reverseComplement(these_seqs[revstrand])\n .     these_seqs\n . })",
      "5. FUN(X[[i]], ...)"
     ]
    }
   ],
   "source": [
    "# simulate coding reads (exon only) using gtf\n",
    "simulate_experiment(#fasta= hsapiens_fasta,\n",
    "                    #gtf = hsapiens_gtf,\n",
    "                    #gtf = \"/Users/tessa/dib-lab/kmerslay-analysis/Homo_sapiens/Ensembl/GRCh37/Annotation/Genes/genes_head200.gtf\",\n",
    "                    gtf = \"chromosomes.gff3\",\n",
    "                    seqpath = \"/Users/tessa/dib-lab/kmerslay-analysis/Homo_sapiens/Ensembl/GRCh37/Sequence/Chromosomes\",\n",
    "                    #meanmodel=TRUE, # draw baseline mean count numbers from a model based on transcript length.\n",
    "                    outdir='hsapiens_sim',\n",
    "                    idfield = \"transcript_id\",\n",
    "                    reads_per_transcript = 300,\n",
    "                    #gzip =TRUE,\n",
    "                    seed =142,\n",
    "                    #exononly=TRUE,\n",
    "                    #feature = \"transcript\"\n",
    "                    )\n",
    "                    #reads_per_transcript = 300,\n",
    "                    #reads_per_transcript=readspertx,\n",
    "                    #readmat=countmat_hsapiens, \n",
    "                    #num_reps=c(10,10), \n",
    "\n",
    "# Reads can either be simulated from a FASTA file of transcripts (provided with the fasta argument)\n",
    "# OR from a GTF file plus DNA sequences (provided with the gtf and seqpath arguments). Simulat- ing from a GTF file and DNA sequences may be a bit slower: it took about 6 minutes to parse the GTF/sequence files for chromosomes 1-22, X, and Y in hg19."
   ]
  },
  {
   "cell_type": "code",
   "execution_count": null,
   "metadata": {},
   "outputs": [],
   "source": [
    "# use simulate_experiment_empirical to model counts after real data\n",
    "#simulate_experiment_empirical(hsapiens_fasta, grouplabels=pData(bg)$group, gtf=hsapiens_gtf,\n",
    "#    seqpath=chr22seq, mean_rps=5000, outdir='empirical_reads', seed=1247)"
   ]
  },
  {
   "cell_type": "code",
   "execution_count": null,
   "metadata": {},
   "outputs": [],
   "source": []
  },
  {
   "cell_type": "code",
   "execution_count": null,
   "metadata": {},
   "outputs": [],
   "source": []
  },
  {
   "cell_type": "markdown",
   "metadata": {},
   "source": [
    "Changing other parameters and adding bias\n",
    "The following parameters can be provided to simulate_experiment and simulate_experiment_countmat:\n",
    "\n",
    "- **readlen**: Read length (default 100)\n",
    "- paired: Whether the reads should be paired-end (default TRUE)\n",
    "- distr: Distribution from which to draw the fragment lengths. Default is 'normal', mean=250 and sd=25. Other options are 'empirical' and 'custom'. 'empirical' means fragment lengths are drawn from a length distribution we estimated from real data, and 'custom' requires you to provide a logspline density object from which you'd like to draw the fragment lengths.\n",
    "- **fraglen**: The mean fragment length, if using a normal distribution (default 250)\n",
    "- fragsd: Standard devation of fragment lengths, if using a normal distribution (default 25)\n",
    "- **error_model**: How should sequencing errors be simulated? The default is that sequencing errors are uniformly distributed across samples, reads, and nucleotides, at an error rate of 0.5%. Other options are 'illumina4', 'illumina5', and 'custom', where the Illumina error models were estimated from a real data set and ship with GemSIM (McElroy, Luciani, and Thomas 2012), and 'custom' allows you to use GemSIM to estimate an error model from your data set. See ?add_platform_error and/or the GemSIM paper for details. Code we used to modify GemSIM's Illumina error models for Polyester are available at our GitHub repository.\n",
    "- **error_rate**: In the uniform error model, probability that the sequencer records the wrong nucleotide at any given base (default 0.005).\n",
    "- **bias**: Positional bias model to use when fragmenting transcripts. By default, all fragments from a transcript are equally likely ('none'). Other choices are 'rnaf' and 'cdnaf', which mimic positional bias arising from different fragmentation protocols. See ?generate_fragments and our manuscript (Frazee et al, 2014) for details.\n",
    "- **gc_bias**: sample-specific GC bias models to be used to change expression values after read numbers are assigned. We modeled transcript expression as a function of GC content for 7 biological replicates in a real data set, and shift expression values accordingly. See ?add_gc_bias for details. Ignored in simulate_experiment_countmat.\n",
    "- frag_GC_bias: A sample-specific GC content bias on the fragment level instead of the transcript level. See ?simulate_experiment\n",
    "- strand_specific: Whether the experiment should be strand-specific or not, default is FALSE so an unstranded experiment.\n",
    "- meanmodel: Set to TRUE to estimate reads_per_transcript as a data-driven function of transcript length. Ignored in simulate_experiment_countmat.\n",
    "- lib_sizes: multiplicative library size factor for each replicate in the experiment. Ignored in simulate_experiment_countmat."
   ]
  },
  {
   "cell_type": "markdown",
   "metadata": {},
   "source": [
    "# Using real data to guide simulation\n",
    "We also provide a function simulate_experiment_empirical that takes a real transcript expression matrix (in FPKM or RPKM units) and corresponding annotation to simulate an experiment with abundances and differential expression fold changes similar to those given in the expression matrix. This function is compatible with the Ballgown package, or you can simply provide a transcript-by-replicate expression matrix generated with your favorite abundance estimation software."
   ]
  },
  {
   "cell_type": "code",
   "execution_count": null,
   "metadata": {},
   "outputs": [],
   "source": []
  }
 ],
 "metadata": {
  "kernelspec": {
   "display_name": "R",
   "language": "R",
   "name": "ir"
  },
  "language_info": {
   "codemirror_mode": "r",
   "file_extension": ".r",
   "mimetype": "text/x-r-source",
   "name": "R",
   "pygments_lexer": "r",
   "version": "3.6.1"
  }
 },
 "nbformat": 4,
 "nbformat_minor": 4
}
